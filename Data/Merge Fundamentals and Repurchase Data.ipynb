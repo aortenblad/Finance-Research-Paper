{
 "cells": [
  {
   "cell_type": "code",
   "execution_count": 183,
   "metadata": {},
   "outputs": [],
   "source": [
    "import pandas as pd\n",
    "import numpy as np"
   ]
  },
  {
   "cell_type": "code",
   "execution_count": 184,
   "metadata": {},
   "outputs": [],
   "source": [
    "data_fundamentals = pd.read_stata(r'C:\\Users\\aleor\\OneDrive\\Documents\\Berkeley\\Econ_191\\191_Data\\By_Permno_Data\\Pre_Merge.dta', preserve_dtypes=False, convert_dates = False)"
   ]
  },
  {
   "cell_type": "code",
   "execution_count": 185,
   "metadata": {},
   "outputs": [],
   "source": [
    "data_13D = pd.read_csv(r'C:\\Users\\aleor\\OneDrive\\Documents\\Berkeley\\Econ_191\\191_Data\\13D_with_years.csv')"
   ]
  },
  {
   "cell_type": "code",
   "execution_count": 186,
   "metadata": {},
   "outputs": [],
   "source": [
    "merge_with_13D = data_fundamentals.merge(data_13D, how='left', on=['Permno', 'Year'])"
   ]
  },
  {
   "cell_type": "code",
   "execution_count": 242,
   "metadata": {},
   "outputs": [],
   "source": [
    "with_pscore.to_csv(r'C:\\Users\\aleor\\OneDrive\\Documents\\Berkeley\\Econ_191\\191_Data\\extended_final_ready_for_stata.csv',)"
   ]
  }
 ],
 "metadata": {
  "kernelspec": {
   "display_name": "Python 3",
   "language": "python",
   "name": "python3"
  },
  "language_info": {
   "codemirror_mode": {
    "name": "ipython",
    "version": 3
   },
   "file_extension": ".py",
   "mimetype": "text/x-python",
   "name": "python",
   "nbconvert_exporter": "python",
   "pygments_lexer": "ipython3",
   "version": "3.7.0"
  }
 },
 "nbformat": 4,
 "nbformat_minor": 2
}
